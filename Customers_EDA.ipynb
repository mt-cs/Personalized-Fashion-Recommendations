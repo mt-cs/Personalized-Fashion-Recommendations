{
 "cells": [
  {
   "cell_type": "markdown",
   "id": "04205550-f2e2-4109-8f09-195751fbbae1",
   "metadata": {},
   "source": [
    "reference: [ROBERT KWIATKOWSKI](https://www.kaggle.com/datark1/detailed-eda-understanding-h-m-data)"
   ]
  },
  {
   "cell_type": "code",
   "execution_count": 1,
   "id": "7c1867c8-de14-48c7-a35f-18e342097e6e",
   "metadata": {},
   "outputs": [
    {
     "data": {
      "text/html": [
       "<div>\n",
       "<style scoped>\n",
       "    .dataframe tbody tr th:only-of-type {\n",
       "        vertical-align: middle;\n",
       "    }\n",
       "\n",
       "    .dataframe tbody tr th {\n",
       "        vertical-align: top;\n",
       "    }\n",
       "\n",
       "    .dataframe thead th {\n",
       "        text-align: right;\n",
       "    }\n",
       "</style>\n",
       "<table border=\"1\" class=\"dataframe\">\n",
       "  <thead>\n",
       "    <tr style=\"text-align: right;\">\n",
       "      <th></th>\n",
       "      <th>customer_id</th>\n",
       "      <th>FN</th>\n",
       "      <th>Active</th>\n",
       "      <th>club_member_status</th>\n",
       "      <th>fashion_news_frequency</th>\n",
       "      <th>age</th>\n",
       "      <th>postal_code</th>\n",
       "    </tr>\n",
       "  </thead>\n",
       "  <tbody>\n",
       "    <tr>\n",
       "      <th>0</th>\n",
       "      <td>6883939031699146327</td>\n",
       "      <td>NaN</td>\n",
       "      <td>NaN</td>\n",
       "      <td>ACTIVE</td>\n",
       "      <td>NONE</td>\n",
       "      <td>49.0</td>\n",
       "      <td>52043ee2162cf5aa7ee79974281641c6f11a68d276429a...</td>\n",
       "    </tr>\n",
       "    <tr>\n",
       "      <th>1</th>\n",
       "      <td>-7200416642310594310</td>\n",
       "      <td>NaN</td>\n",
       "      <td>NaN</td>\n",
       "      <td>ACTIVE</td>\n",
       "      <td>NONE</td>\n",
       "      <td>25.0</td>\n",
       "      <td>2973abc54daa8a5f8ccfe9362140c63247c5eee03f1d93...</td>\n",
       "    </tr>\n",
       "    <tr>\n",
       "      <th>2</th>\n",
       "      <td>-6846340800584936</td>\n",
       "      <td>NaN</td>\n",
       "      <td>NaN</td>\n",
       "      <td>ACTIVE</td>\n",
       "      <td>NONE</td>\n",
       "      <td>24.0</td>\n",
       "      <td>64f17e6a330a85798e4998f62d0930d14db8db1c054af6...</td>\n",
       "    </tr>\n",
       "    <tr>\n",
       "      <th>3</th>\n",
       "      <td>-94071612138601410</td>\n",
       "      <td>NaN</td>\n",
       "      <td>NaN</td>\n",
       "      <td>ACTIVE</td>\n",
       "      <td>NONE</td>\n",
       "      <td>54.0</td>\n",
       "      <td>5d36574f52495e81f019b680c843c443bd343d5ca5b1c2...</td>\n",
       "    </tr>\n",
       "    <tr>\n",
       "      <th>4</th>\n",
       "      <td>-283965518499174310</td>\n",
       "      <td>1.0</td>\n",
       "      <td>1.0</td>\n",
       "      <td>ACTIVE</td>\n",
       "      <td>Regularly</td>\n",
       "      <td>52.0</td>\n",
       "      <td>25fa5ddee9aac01b35208d01736e57942317d756b32ddd...</td>\n",
       "    </tr>\n",
       "    <tr>\n",
       "      <th>...</th>\n",
       "      <td>...</td>\n",
       "      <td>...</td>\n",
       "      <td>...</td>\n",
       "      <td>...</td>\n",
       "      <td>...</td>\n",
       "      <td>...</td>\n",
       "      <td>...</td>\n",
       "    </tr>\n",
       "    <tr>\n",
       "      <th>1371975</th>\n",
       "      <td>7551062398649767985</td>\n",
       "      <td>NaN</td>\n",
       "      <td>NaN</td>\n",
       "      <td>ACTIVE</td>\n",
       "      <td>NONE</td>\n",
       "      <td>24.0</td>\n",
       "      <td>7aa399f7e669990daba2d92c577b52237380662f36480b...</td>\n",
       "    </tr>\n",
       "    <tr>\n",
       "      <th>1371976</th>\n",
       "      <td>-9141402131989464905</td>\n",
       "      <td>NaN</td>\n",
       "      <td>NaN</td>\n",
       "      <td>ACTIVE</td>\n",
       "      <td>NONE</td>\n",
       "      <td>21.0</td>\n",
       "      <td>3f47f1279beb72215f4de557d950e0bfa73789d24acb5e...</td>\n",
       "    </tr>\n",
       "    <tr>\n",
       "      <th>1371977</th>\n",
       "      <td>-8286316756823862684</td>\n",
       "      <td>1.0</td>\n",
       "      <td>1.0</td>\n",
       "      <td>ACTIVE</td>\n",
       "      <td>Regularly</td>\n",
       "      <td>21.0</td>\n",
       "      <td>4563fc79215672cd6a863f2b4bf56b8f898f2d96ed590e...</td>\n",
       "    </tr>\n",
       "    <tr>\n",
       "      <th>1371978</th>\n",
       "      <td>2551401172826382186</td>\n",
       "      <td>1.0</td>\n",
       "      <td>1.0</td>\n",
       "      <td>ACTIVE</td>\n",
       "      <td>Regularly</td>\n",
       "      <td>18.0</td>\n",
       "      <td>8892c18e9bc3dca6aa4000cb8094fc4b51ee8db2ed14d7...</td>\n",
       "    </tr>\n",
       "    <tr>\n",
       "      <th>1371979</th>\n",
       "      <td>-1516792180973952447</td>\n",
       "      <td>NaN</td>\n",
       "      <td>NaN</td>\n",
       "      <td>PRE-CREATE</td>\n",
       "      <td>NONE</td>\n",
       "      <td>65.0</td>\n",
       "      <td>0a1a03306fb2f62164c2a439b38c0caa64b40deaae8687...</td>\n",
       "    </tr>\n",
       "  </tbody>\n",
       "</table>\n",
       "<p>1371980 rows × 7 columns</p>\n",
       "</div>"
      ],
      "text/plain": [
       "                 customer_id   FN  Active club_member_status  \\\n",
       "0        6883939031699146327  NaN     NaN             ACTIVE   \n",
       "1       -7200416642310594310  NaN     NaN             ACTIVE   \n",
       "2          -6846340800584936  NaN     NaN             ACTIVE   \n",
       "3         -94071612138601410  NaN     NaN             ACTIVE   \n",
       "4        -283965518499174310  1.0     1.0             ACTIVE   \n",
       "...                      ...  ...     ...                ...   \n",
       "1371975  7551062398649767985  NaN     NaN             ACTIVE   \n",
       "1371976 -9141402131989464905  NaN     NaN             ACTIVE   \n",
       "1371977 -8286316756823862684  1.0     1.0             ACTIVE   \n",
       "1371978  2551401172826382186  1.0     1.0             ACTIVE   \n",
       "1371979 -1516792180973952447  NaN     NaN         PRE-CREATE   \n",
       "\n",
       "        fashion_news_frequency   age  \\\n",
       "0                         NONE  49.0   \n",
       "1                         NONE  25.0   \n",
       "2                         NONE  24.0   \n",
       "3                         NONE  54.0   \n",
       "4                    Regularly  52.0   \n",
       "...                        ...   ...   \n",
       "1371975                   NONE  24.0   \n",
       "1371976                   NONE  21.0   \n",
       "1371977              Regularly  21.0   \n",
       "1371978              Regularly  18.0   \n",
       "1371979                   NONE  65.0   \n",
       "\n",
       "                                               postal_code  \n",
       "0        52043ee2162cf5aa7ee79974281641c6f11a68d276429a...  \n",
       "1        2973abc54daa8a5f8ccfe9362140c63247c5eee03f1d93...  \n",
       "2        64f17e6a330a85798e4998f62d0930d14db8db1c054af6...  \n",
       "3        5d36574f52495e81f019b680c843c443bd343d5ca5b1c2...  \n",
       "4        25fa5ddee9aac01b35208d01736e57942317d756b32ddd...  \n",
       "...                                                    ...  \n",
       "1371975  7aa399f7e669990daba2d92c577b52237380662f36480b...  \n",
       "1371976  3f47f1279beb72215f4de557d950e0bfa73789d24acb5e...  \n",
       "1371977  4563fc79215672cd6a863f2b4bf56b8f898f2d96ed590e...  \n",
       "1371978  8892c18e9bc3dca6aa4000cb8094fc4b51ee8db2ed14d7...  \n",
       "1371979  0a1a03306fb2f62164c2a439b38c0caa64b40deaae8687...  \n",
       "\n",
       "[1371980 rows x 7 columns]"
      ]
     },
     "execution_count": 1,
     "metadata": {},
     "output_type": "execute_result"
    }
   ],
   "source": [
    "import pandas as pd\n",
    "import seaborn as sns\n",
    "import matplotlib.pyplot as plt\n",
    "\n",
    "df_customer = pd.read_csv('h-and-m-personalized-fashion-recommendations/customers.csv')\n",
    "df_customer['customer_id'] =\\\n",
    "    df_customer['customer_id'].apply(lambda x: int(x[-16:],16) ).astype('int64')\n",
    "\n",
    "\n",
    "df_customer"
   ]
  },
  {
   "cell_type": "code",
   "execution_count": 2,
   "id": "37b887a5",
   "metadata": {},
   "outputs": [
    {
     "name": "stdout",
     "output_type": "stream",
     "text": [
      "<class 'pandas.core.frame.DataFrame'>\n",
      "RangeIndex: 1371980 entries, 0 to 1371979\n",
      "Data columns (total 7 columns):\n",
      " #   Column                  Non-Null Count    Dtype  \n",
      "---  ------                  --------------    -----  \n",
      " 0   customer_id             1371980 non-null  int64  \n",
      " 1   FN                      476930 non-null   float64\n",
      " 2   Active                  464404 non-null   float64\n",
      " 3   club_member_status      1365918 non-null  object \n",
      " 4   fashion_news_frequency  1355971 non-null  object \n",
      " 5   age                     1356119 non-null  float64\n",
      " 6   postal_code             1371980 non-null  object \n",
      "dtypes: float64(3), int64(1), object(3)\n",
      "memory usage: 73.3+ MB\n"
     ]
    }
   ],
   "source": [
    "df_customer.info()"
   ]
  },
  {
   "cell_type": "markdown",
   "id": "0a462c31",
   "metadata": {},
   "source": [
    "# FN and Active"
   ]
  },
  {
   "cell_type": "code",
   "execution_count": 3,
   "id": "c6f08a2e",
   "metadata": {},
   "outputs": [],
   "source": [
    "df_cust_backup = df_customer.copy()\n",
    "\n",
    "df_customer[['FN','Active']] = df_customer[['FN','Active']].fillna(0)"
   ]
  },
  {
   "cell_type": "code",
   "execution_count": 4,
   "id": "5f8b39ea",
   "metadata": {
    "scrolled": true
   },
   "outputs": [
    {
     "data": {
      "image/png": "[encoded data removed]",
      "text/plain": [
       "<Figure size 432x288 with 1 Axes>"
      ]
     },
     "metadata": {
      "needs_background": "light"
     },
     "output_type": "display_data"
    }
   ],
   "source": [
    "labels = 'No-Fn', 'FN'\n",
    "sizes = df_customer['FN'].value_counts()\n",
    "total_sizes = sum(df_customer['FN'].value_counts())\n",
    "sizes_percentage = sizes / total_sizes * 100\n",
    "\n",
    "fig, ax = plt.subplots()\n",
    "\n",
    "ax.bar(labels, sizes_percentage)\n",
    "\n",
    "ax.set_ylabel('Percentage')\n",
    "\n",
    "ax.set_xlabel('FN Status')\n",
    "\n",
    "ax.set_title('FN Status')\n",
    "\n",
    "plt.show()"
   ]
  },
  {
   "cell_type": "code",
   "execution_count": 5,
   "id": "fc88e0f3",
   "metadata": {},
   "outputs": [
    {
     "data": {
      "image/png": "[encoded data removed]",
      "text/plain": [
       "<Figure size 432x288 with 1 Axes>"
      ]
     },
     "metadata": {
      "needs_background": "light"
     },
     "output_type": "display_data"
    }
   ],
   "source": [
    "labels = 'Not-Active', 'Active'\n",
    "sizes = df_customer['Active'].value_counts()\n",
    "total_sizes = sum(df_customer['Active'].value_counts())\n",
    "sizes_percentage = sizes / total_sizes * 100\n",
    "\n",
    "fig, ax = plt.subplots()\n",
    "\n",
    "ax.bar(labels, sizes_percentage)\n",
    "\n",
    "ax.set_ylabel('Percentage')\n",
    "\n",
    "ax.set_xlabel('Active Status')\n",
    "\n",
    "ax.set_title('Active Status')\n",
    "\n",
    "plt.show()"
   ]
  },
  {
   "cell_type": "markdown",
   "id": "ba52bd88",
   "metadata": {},
   "source": [
    "# Club Member Status"
   ]
  },
  {
   "cell_type": "code",
   "execution_count": 6,
   "id": "fb4c4e64",
   "metadata": {},
   "outputs": [
    {
     "data": {
      "text/plain": [
       "array(['ACTIVE', nan, 'PRE-CREATE', 'LEFT CLUB'], dtype=object)"
      ]
     },
     "execution_count": 6,
     "metadata": {},
     "output_type": "execute_result"
    }
   ],
   "source": [
    "df_customer['club_member_status'].unique()"
   ]
  },
  {
   "cell_type": "code",
   "execution_count": 7,
   "id": "22e81f63",
   "metadata": {},
   "outputs": [],
   "source": [
    "df_customer[['club_member_status']] = df_customer[['club_member_status']].fillna('N/A')"
   ]
  },
  {
   "cell_type": "code",
   "execution_count": 8,
   "id": "7c477637",
   "metadata": {},
   "outputs": [
    {
     "data": {
      "text/plain": [
       "ACTIVE        1272491\n",
       "PRE-CREATE      92960\n",
       "N/A              6062\n",
       "LEFT CLUB         467\n",
       "Name: club_member_status, dtype: int64"
      ]
     },
     "execution_count": 8,
     "metadata": {},
     "output_type": "execute_result"
    },
    {
     "data": {
      "image/png": "[encoded data removed]",
      "text/plain": [
       "<Figure size 432x288 with 1 Axes>"
      ]
     },
     "metadata": {
      "needs_background": "light"
     },
     "output_type": "display_data"
    }
   ],
   "source": [
    "%matplotlib inline\n",
    "fig = plt.figure()\n",
    "ax = fig.add_axes([0, 0, 1, 1])\n",
    "sizes = df_customer['club_member_status'].value_counts()\n",
    "total_sizes = sum(df_customer['club_member_status'].value_counts())\n",
    "sizes_percentage = sizes / total_sizes * 100\n",
    "status = df_customer['club_member_status'].unique()\n",
    "\n",
    "ax.bar(status, sizes_percentage)\n",
    "\n",
    "ax.set_ylabel('Percentage')\n",
    "\n",
    "ax.set_xlabel('Member Status')\n",
    "\n",
    "ax.set_title('Club Member Status')\n",
    "\n",
    "sizes"
   ]
  },
  {
   "cell_type": "markdown",
   "id": "12c671a7",
   "metadata": {},
   "source": [
    "# Fashion News Frequency"
   ]
  },
  {
   "cell_type": "code",
   "execution_count": 9,
   "id": "78d43a64",
   "metadata": {},
   "outputs": [
    {
     "data": {
      "text/plain": [
       "array(['NONE', 'Regularly', nan, 'Monthly', 'None'], dtype=object)"
      ]
     },
     "execution_count": 9,
     "metadata": {},
     "output_type": "execute_result"
    }
   ],
   "source": [
    "df_customer['fashion_news_frequency'].unique()"
   ]
  },
  {
   "cell_type": "code",
   "execution_count": 10,
   "id": "7bad1a03",
   "metadata": {},
   "outputs": [
    {
     "data": {
      "text/plain": [
       "array(['None', 'Regularly', 'Monthly'], dtype=object)"
      ]
     },
     "execution_count": 10,
     "metadata": {},
     "output_type": "execute_result"
    }
   ],
   "source": [
    "# Cleaning up data NONE = None and nan = None\n",
    "df_customer[['fashion_news_frequency']] = df_customer[['fashion_news_frequency']].fillna('None')\n",
    "df_customer['fashion_news_frequency'] = df_customer['fashion_news_frequency'].replace('NONE', 'None')\n",
    "\n",
    "df_customer['fashion_news_frequency'].unique()"
   ]
  },
  {
   "cell_type": "code",
   "execution_count": 11,
   "id": "2ce827d3",
   "metadata": {},
   "outputs": [
    {
     "data": {
      "text/plain": [
       "None         893722\n",
       "Regularly    477416\n",
       "Monthly         842\n",
       "Name: fashion_news_frequency, dtype: int64"
      ]
     },
     "execution_count": 11,
     "metadata": {},
     "output_type": "execute_result"
    },
    {
     "data": {
      "image/png": "[encoded data removed]",
      "text/plain": [
       "<Figure size 432x288 with 1 Axes>"
      ]
     },
     "metadata": {
      "needs_background": "light"
     },
     "output_type": "display_data"
    }
   ],
   "source": [
    "%matplotlib inline\n",
    "fig = plt.figure()\n",
    "ax = fig.add_axes([0, 0, 1, 1])\n",
    "sizes = df_customer['fashion_news_frequency'].value_counts()\n",
    "total_sizes = sum(df_customer['fashion_news_frequency'].value_counts())\n",
    "sizes_percentage = sizes / total_sizes * 100\n",
    "frequency = df_customer['fashion_news_frequency'].unique()\n",
    "\n",
    "ax.bar(frequency, sizes_percentage)\n",
    "\n",
    "ax.set_ylabel('Count')\n",
    "\n",
    "ax.set_xlabel('Frequency')\n",
    "\n",
    "ax.set_title('Fashion News Frequency')\n",
    "\n",
    "sizes"
   ]
  },
  {
   "cell_type": "markdown",
   "id": "1c9c4496",
   "metadata": {},
   "source": [
    "# Age"
   ]
  },
  {
   "cell_type": "code",
   "execution_count": 12,
   "id": "a365b0ad",
   "metadata": {},
   "outputs": [
    {
     "data": {
      "text/plain": [
       "array([49., 25., 24., 54., 52., nan, 20., 32., 29., 31., 56., 75., 41.,\n",
       "       27., 30., 48., 35., 22., 40., 38., 45., 68., 55., 19., 60., 44.,\n",
       "       21., 26., 28., 53., 33., 17., 23., 51., 18., 34., 57., 47., 70.,\n",
       "       50., 63., 58., 43., 67., 72., 42., 39., 79., 71., 59., 36., 62.,\n",
       "       37., 46., 73., 64., 74., 61., 85., 69., 76., 66., 65., 82., 16.,\n",
       "       90., 80., 78., 81., 84., 77., 97., 89., 83., 98., 88., 86., 87.,\n",
       "       93., 91., 99., 96., 94., 92., 95.])"
      ]
     },
     "execution_count": 12,
     "metadata": {},
     "output_type": "execute_result"
    }
   ],
   "source": [
    "df_customer['age'].unique()"
   ]
  },
  {
   "cell_type": "code",
   "execution_count": 13,
   "id": "df49f202",
   "metadata": {},
   "outputs": [
    {
     "data": {
      "image/png": "[encoded data removed]",
      "text/plain": [
       "<Figure size 720x360 with 1 Axes>"
      ]
     },
     "metadata": {
      "needs_background": "light"
     },
     "output_type": "display_data"
    }
   ],
   "source": [
    "fig, ax = plt.subplots(figsize=(10,5))\n",
    "ax = sns.histplot(data=df_customer, x='age', bins=df_customer['age'].nunique(), stat=\"percent\")\n",
    "ax.set_xlabel('Distribution of the customers age')\n",
    "plt.show()"
   ]
  },
  {
   "cell_type": "code",
   "execution_count": 14,
   "id": "e5063180",
   "metadata": {},
   "outputs": [
    {
     "data": {
      "image/png": "[encoded data removed]",
      "text/plain": [
       "<Figure size 720x360 with 1 Axes>"
      ]
     },
     "metadata": {
      "needs_background": "light"
     },
     "output_type": "display_data"
    }
   ],
   "source": [
    "fig, ax = plt.subplots(figsize=(10,5))\n",
    "ax = sns.histplot(data=df_customer, x='age', bins=df_customer['age'].nunique(), hue='Active', stat=\"percent\")\n",
    "ax.set_xlabel('Distribution of the customers age')\n",
    "plt.show()"
   ]
  },
  {
   "cell_type": "code",
   "execution_count": 15,
   "id": "d74654ad-4705-4dc1-b49d-99e4ff26f5b2",
   "metadata": {},
   "outputs": [
    {
     "data": {
      "image/png": "[encoded data removed]",
      "text/plain": [
       "<Figure size 720x360 with 1 Axes>"
      ]
     },
     "metadata": {
      "needs_background": "light"
     },
     "output_type": "display_data"
    }
   ],
   "source": [
    "fig, ax = plt.subplots(figsize=(10,5))\n",
    "ax = sns.histplot(data=df_customer, x='age', bins=df_customer['age'].nunique(), hue='FN', stat=\"percent\")\n",
    "ax.set_xlabel('Distribution of the customers age')\n",
    "plt.show()"
   ]
  },
  {
   "cell_type": "code",
   "execution_count": 16,
   "id": "b30313ae-72bd-49c6-b55d-6b8c42ba9c37",
   "metadata": {},
   "outputs": [
    {
     "data": {
      "image/png": "[encoded data removed]",
      "text/plain": [
       "<Figure size 720x360 with 1 Axes>"
      ]
     },
     "metadata": {
      "needs_background": "light"
     },
     "output_type": "display_data"
    }
   ],
   "source": [
    "fig, ax = plt.subplots(figsize=(10,5))\n",
    "ax = sns.histplot(data=df_customer, x='age', bins=df_customer['age'].nunique(), hue='club_member_status', stat=\"percent\")\n",
    "ax.set_xlabel('Distribution of the customers age')\n",
    "plt.show()"
   ]
  },
  {
   "cell_type": "code",
   "execution_count": 17,
   "id": "c6a02002-aa4a-468a-b1c9-078139c80c14",
   "metadata": {},
   "outputs": [
    {
     "data": {
      "image/png": "[encoded data removed]",
      "text/plain": [
       "<Figure size 720x360 with 1 Axes>"
      ]
     },
     "metadata": {
      "needs_background": "light"
     },
     "output_type": "display_data"
    }
   ],
   "source": [
    "fig, ax = plt.subplots(figsize=(10,5))\n",
    "ax = sns.histplot(data=df_customer, x='age', bins=df_customer['age'].nunique(), hue='fashion_news_frequency', stat=\"percent\")\n",
    "ax.set_xlabel('Distribution of the customers age')\n",
    "plt.show()"
   ]
  }
 ],
 "metadata": {
  "kernelspec": {
   "display_name": "Python 3 (ipykernel)",
   "language": "python",
   "name": "python3"
  },
  "language_info": {
   "codemirror_mode": {
    "name": "ipython",
    "version": 3
   },
   "file_extension": ".py",
   "mimetype": "text/x-python",
   "name": "python",
   "nbconvert_exporter": "python",
   "pygments_lexer": "ipython3",
   "version": "3.8.2"
  }
 },
 "nbformat": 4,
 "nbformat_minor": 5
}
